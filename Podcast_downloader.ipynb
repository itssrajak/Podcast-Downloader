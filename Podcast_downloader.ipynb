{
 "cells": [
  {
   "cell_type": "markdown",
   "metadata": {},
   "source": [
    "Importing Necessary Libraries"
   ]
  },
  {
   "cell_type": "code",
   "execution_count": 1,
   "metadata": {},
   "outputs": [],
   "source": [
    "from bs4 import BeautifulSoup\n",
    "import requests\n",
    "import re\n",
    "import os\n",
    "import dateutil.parser"
   ]
  },
  {
   "cell_type": "code",
   "execution_count": 2,
   "metadata": {},
   "outputs": [],
   "source": [
    "rss_feed_url = \"https://feeds.megaphone.fm/SIXMSB5088139739\"\n",
    "output_dir = \"./podcasts_download\"\n",
    "\n",
    "# Keywords to filter podcast titles\n",
    "keywords = [r\"\\bcareer\\b\" , r\"\\bgrowth\\b\"] \n",
    "\n",
    "# Maximum number of podcasts to download\n",
    "max_podcast = 3\n",
    "\n",
    "# Whether to filter podcasts by keywords\n",
    "use_keywords = True"
   ]
  },
  {
   "cell_type": "code",
   "execution_count": 3,
   "metadata": {},
   "outputs": [],
   "source": [
    "# Function to parse and format publication date\n",
    "def parse_date(date):\n",
    "    return dateutil.parser.parse(date).strftime(\"%d-%b-%y\")"
   ]
  },
  {
   "cell_type": "code",
   "execution_count": 4,
   "metadata": {},
   "outputs": [],
   "source": [
    "# Function to filter episodes based on keywords\n",
    "def keyword_filter(title, keywords):\n",
    "    for keyword in keywords:\n",
    "        if re.search(keyword, title, re.IGNORECASE):\n",
    "            return True\n",
    "    return False"
   ]
  },
  {
   "cell_type": "code",
   "execution_count": 5,
   "metadata": {},
   "outputs": [],
   "source": [
    "# extract metadata of episodes from RSS feed content\n",
    "def get_episodes_metadata(feed_content, keywords=True):\n",
    "    soup = BeautifulSoup(feed_content, \"xml\")\n",
    "    items = soup.find_all(\"item\")\n",
    "    \n",
    "    episode_metadata = []\n",
    "    for item in items:\n",
    "        title = item.find(\"title\").text\n",
    "        if use_keywords and keyword_filter(title, keywords): \n",
    "            url = item.find(\"enclosure\")[\"url\"]\n",
    "            release_date = parse_date(item.find(\"pubDate\").text)\n",
    "            episode_metadata.append((url, title, release_date))\n",
    "        elif not use_keywords:\n",
    "            url = item.find(\"enclosure\")[\"url\"]\n",
    "            release_date = parse_date(item.find(\"pubDate\").text)\n",
    "            episode_metadata.append((url, title, release_date))\n",
    "        \n",
    "        if len(episode_metadata) == max_podcast:\n",
    "            break\n",
    "            \n",
    "    return episode_metadata"
   ]
  },
  {
   "cell_type": "code",
   "execution_count": 6,
   "metadata": {},
   "outputs": [],
   "source": [
    "# download MP3 file from URL\n",
    "def get_mp3_file(url):\n",
    "    try:\n",
    "        response = requests.get(url, allow_redirects=True)\n",
    "        return response\n",
    "    except requests.exceptions.RequestException as e:\n",
    "        print(f\"Request failed: {e}\")\n",
    "        return None"
   ]
  },
  {
   "cell_type": "code",
   "execution_count": 7,
   "metadata": {},
   "outputs": [],
   "source": [
    "#  save MP3 file to disk\n",
    "def save_mp3_file(file, file_path):\n",
    "    with open(file_path, \"wb\") as f:\n",
    "        f.write(file.content)"
   ]
  },
  {
   "cell_type": "code",
   "execution_count": 8,
   "metadata": {},
   "outputs": [],
   "source": [
    "#  simplify podcast title for filename\n",
    "def simplify_title(title):\n",
    "    return re.sub(r'[^a-zA-Z0-9 ]', '', title)[:100]"
   ]
  },
  {
   "cell_type": "code",
   "execution_count": 9,
   "metadata": {},
   "outputs": [],
   "source": [
    "if __name__ == \"__main__\":\n",
    "    \n",
    "    # Fetch and parse the RSS feed content\n",
    "    feed_content = requests.get(rss_feed_url).content\n",
    "    episodes_metadata = get_episodes_metadata(feed_content, keywords)\n",
    "    \n",
    "    # Create ouput directory if it doesn't exists\n",
    "    if not os.path.exists(output_dir):\n",
    "        os.makedirs(output_dir)\n",
    "        \n",
    "    #  Download and save each episode\n",
    "    for url, title, release_date in episodes_metadata:\n",
    "        simple_title = simplify_title(title)\n",
    "        file = get_mp3_file(url)\n",
    "        file_path = os.path.join(output_dir, f\"{release_date}_{simple_title}.mp3\")\n",
    "        save_mp3_file (file, file_path)\n",
    "        print(f\"{file_path} saved\")\n",
    "        "
   ]
  }
 ],
 "metadata": {
  "kernelspec": {
   "display_name": "base",
   "language": "python",
   "name": "python3"
  },
  "language_info": {
   "codemirror_mode": {
    "name": "ipython",
    "version": 3
   },
   "file_extension": ".py",
   "mimetype": "text/x-python",
   "name": "python",
   "nbconvert_exporter": "python",
   "pygments_lexer": "ipython3",
   "version": "3.11.5"
  }
 },
 "nbformat": 4,
 "nbformat_minor": 2
}
